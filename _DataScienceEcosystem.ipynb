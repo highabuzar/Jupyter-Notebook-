{
 "cells": [
  {
   "cell_type": "markdown",
   "id": "c7a27c06-84af-468d-a535-c619dddede3b",
   "metadata": {},
   "source": [
    "# Data Science Tools and Ecosystem"
   ]
  },
  {
   "cell_type": "markdown",
   "id": "41bbf744-bd2e-4625-ae38-c2f22c6d90ab",
   "metadata": {},
   "source": [
    "## In this notebook, Data Science Tools and Ecosystem are summarized."
   ]
  },
  {
   "cell_type": "markdown",
   "id": "24cdbf9e-5cdb-4697-814d-4bee3d33c009",
   "metadata": {},
   "source": [
    "### Some of the popular languages that Data Scientists use are:"
   ]
  },
  {
   "cell_type": "markdown",
   "id": "c136b7c9-35e8-4feb-a3e4-34e1dcfd4aee",
   "metadata": {},
   "source": [
    "1. python \n",
    "2. R\n",
    "3. julia "
   ]
  },
  {
   "cell_type": "markdown",
   "id": "b0ce8179-86fc-4648-95cd-586185c6464a",
   "metadata": {},
   "source": [
    "### Some of the commonly used libraries used by Data Scientists include:"
   ]
  },
  {
   "cell_type": "markdown",
   "id": "7bf99e35-516b-43f5-bf7f-3b18c5a32342",
   "metadata": {},
   "source": [
    "1. numpy\n",
    "2. pandas\n",
    "3. matplotlib\n",
    "4. seaborn"
   ]
  },
  {
   "cell_type": "markdown",
   "id": "edefc1f6-708b-4876-9a10-55d588d39ebd",
   "metadata": {},
   "source": [
    "| Data Science Tools |\n",
    "-----\n",
    "| Jupyter Notebook | \n",
    "| R Studios |\n",
    "| Apache Neppelin | "
   ]
  },
  {
   "cell_type": "markdown",
   "id": "3bb4f958-dedb-4692-b4fa-6295c81c2d34",
   "metadata": {},
   "source": [
    "### Below are a few examples of evaluating arithmetic expressions in Python"
   ]
  },
  {
   "cell_type": "code",
   "execution_count": 45,
   "id": "2ffd6bfc-3f8d-4eb0-8ab6-42606d5cbd70",
   "metadata": {},
   "outputs": [
    {
     "data": {
      "text/plain": [
       "17"
      ]
     },
     "execution_count": 45,
     "metadata": {},
     "output_type": "execute_result"
    }
   ],
   "source": [
    " #This a simple arithmetic expression to mutiply then add integers\n",
    "(3 * 4) + 5 "
   ]
  },
  {
   "cell_type": "code",
   "execution_count": 47,
   "id": "8130ad3c-c972-47ce-bc39-a7ea173b4c65",
   "metadata": {},
   "outputs": [
    {
     "data": {
      "text/plain": [
       "3.3333333333333335"
      ]
     },
     "execution_count": 47,
     "metadata": {},
     "output_type": "execute_result"
    }
   ],
   "source": [
    "#This will convert 200 minutes to hours by diving by 60\n",
    "200 / 60 "
   ]
  },
  {
   "cell_type": "markdown",
   "id": "2f42206e-2225-4261-84e1-cb703b9d9e9d",
   "metadata": {},
   "source": [
    " **Objectives**:\n",
    "\n",
    "- List popular languages for Data Science\n",
    "- Identify common libraries used in Data Science\n",
    "- Describe key tools and environments for Data Science\n",
    "- Demonstrate basic arithmetic operations in Python\n",
    "- Understand data manipulation and visualization concepts"
   ]
  },
  {
   "cell_type": "markdown",
   "id": "a5d86184-a0b0-40a5-be95-b12fbd1be127",
   "metadata": {},
   "source": [
    "## Author \n",
    "sheikh abuzar"
   ]
  }
 ],
 "metadata": {
  "kernelspec": {
   "display_name": "Python 3 (ipykernel)",
   "language": "python",
   "name": "python3"
  },
  "language_info": {
   "codemirror_mode": {
    "name": "ipython",
    "version": 3
   },
   "file_extension": ".py",
   "mimetype": "text/x-python",
   "name": "python",
   "nbconvert_exporter": "python",
   "pygments_lexer": "ipython3",
   "version": "3.12.4"
  }
 },
 "nbformat": 4,
 "nbformat_minor": 5
}
